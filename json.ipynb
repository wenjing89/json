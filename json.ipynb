{
  "nbformat": 4,
  "nbformat_minor": 0,
  "metadata": {
    "colab": {
      "provenance": [],
      "authorship_tag": "ABX9TyPBp39z9PH1aGFxV9qWBVfH",
      "include_colab_link": true
    },
    "kernelspec": {
      "name": "python3",
      "display_name": "Python 3"
    },
    "language_info": {
      "name": "python"
    }
  },
  "cells": [
    {
      "cell_type": "markdown",
      "metadata": {
        "id": "view-in-github",
        "colab_type": "text"
      },
      "source": [
        "<a href=\"https://colab.research.google.com/github/wenjing89/json/blob/main/json.ipynb\" target=\"_parent\"><img src=\"https://colab.research.google.com/assets/colab-badge.svg\" alt=\"Open In Colab\"/></a>"
      ]
    },
    {
      "cell_type": "code",
      "execution_count": 28,
      "metadata": {
        "colab": {
          "base_uri": "https://localhost:8080/"
        },
        "id": "vrygc1h4GAEG",
        "outputId": "b30f1b6c-e66f-441b-8b31-045b3ff225c9"
      },
      "outputs": [
        {
          "output_type": "stream",
          "name": "stdout",
          "text": [
            "{'type': 'Feature', 'properties': {'id': '5901010076', 'name': '榮星藥局', 'phone': '(02)27124696', 'address': '臺北市松山區南京東路４段１３３巷５弄１號', 'mask_adult': 0, 'mask_child': 2490, 'updated': '2022/03/09 22:53:23', 'available': '星期一上午看診、星期二上午看診、星期三上午看診、星期四上午看診、星期五上午看診、星期六上午看診、星期日上午看診、星期一下午看診、星期二下午看診、星期三下午看診、星期四下午看診、星期五下午看診、星期六下午看診、星期日下午看診、星期一晚上看診、星期二晚上看診、星期三晚上看診、星期四晚上看診、星期五晚上看診、星期六晚上看診、星期日晚上休診', 'note': '-', 'custom_note': '', 'website': '', 'county': '臺北市', 'town': '松山區', 'cunli': '東勢里', 'service_periods': 'NNNNNNNNNNNNNNNNNNNNY'}, 'geometry': {'type': 'Point', 'coordinates': [121.555235, 25.052137]}}\n",
            "{'type': 'Feature', 'properties': {'id': '5901010085', 'name': '安世藥局', 'phone': '(02)27133405', 'address': '臺北市松山區南京東路４段１３３巷５弄９號', 'mask_adult': 750, 'mask_child': 1650, 'updated': '2022/03/09 22:53:23', 'available': '星期一上午看診、星期二上午看診、星期三上午看診、星期四上午看診、星期五上午看診、星期六上午看診、星期日上午看診、星期一下午看診、星期二下午看診、星期三下午看診、星期四下午看診、星期五下午看診、星期六下午看診、星期日下午看診、星期一晚上看診、星期二晚上看診、星期三晚上看診、星期四晚上看診、星期五晚上看診、星期六晚上看診、星期日晚上休診', 'note': '09:00~22:00', 'custom_note': '', 'website': '', 'county': '臺北市', 'town': '松山區', 'cunli': '東勢里', 'service_periods': 'NNNNNNNNNNNNNNNNNNNNY'}, 'geometry': {'type': 'Point', 'coordinates': [121.555562, 25.05214]}}\n",
            "{'type': 'Feature', 'properties': {'id': '5901010094', 'name': '明一藥局', 'phone': '(02)27691654', 'address': '臺北市松山區南京東路５段５９巷２８弄２５號１樓', 'mask_adult': 940, 'mask_child': 150, 'updated': '2022/03/09 22:53:23', 'available': '星期一上午看診、星期二上午看診、星期三上午看診、星期四上午看診、星期五上午看診、星期六上午看診、星期日上午休診、星期一下午看診、星期二下午看診、星期三下午看診、星期四下午看診、星期五下午看診、星期六下午看診、星期日下午休診、星期一晚上看診、星期二晚上看診、星期三晚上看診、星期四晚上看診、星期五晚上看診、星期六晚上休診、星期日晚上休診', 'note': 'AM10: ~~PM9:00', 'custom_note': '', 'website': '', 'county': '臺北市', 'town': '松山區', 'cunli': '東光里', 'service_periods': 'NNNNNNYNNNNNNYNNNNNYY'}, 'geometry': {'type': 'Point', 'coordinates': [121.558168, 25.052704]}}\n",
            "{'type': 'Feature', 'properties': {'id': '5901010165', 'name': '傑安藥局', 'phone': '(02)27524155', 'address': '臺北市松山區八德路２段４３７巷７弄８號１樓', 'mask_adult': 30, 'mask_child': 1000, 'updated': '2022/03/09 22:53:23', 'available': '星期一上午看診、星期二上午看診、星期三上午看診、星期四上午看診、星期五上午看診、星期六上午看診、星期日上午休診、星期一下午看診、星期二下午看診、星期三下午看診、星期四下午看診、星期五下午看診、星期六下午看診、星期日下午休診、星期一晚上看診、星期二晚上看診、星期三晚上看診、星期四晚上看診、星期五晚上看診、星期六晚上看診、星期日晚上休診', 'note': '9:30開始發號碼牌', 'custom_note': '', 'website': '', 'county': '臺北市', 'town': '松山區', 'cunli': '中正里', 'service_periods': 'NNNNNNYNNNNNNYNNNNNNY'}, 'geometry': {'type': 'Point', 'coordinates': [121.547337, 25.049139]}}\n",
            "{'type': 'Feature', 'properties': {'id': '5901010174', 'name': '仁弘藥局', 'phone': '(02)27136764', 'address': '臺北市松山區民生東路３段１１３巷２５弄６號１樓', 'mask_adult': 110, 'mask_child': 1620, 'updated': '2022/03/09 22:53:23', 'available': '星期一上午看診、星期二上午看診、星期三上午看診、星期四上午看診、星期五上午看診、星期六上午看診、星期日上午休診、星期一下午看診、星期二下午看診、星期三下午看診、星期四下午看診、星期五下午看診、星期六下午看診、星期日下午休診、星期一晚上看診、星期二晚上看診、星期三晚上看診、星期四晚上看診、星期五晚上看診、星期六晚上看診、星期日晚上休診', 'note': '每日早上九點，不用領號碼牌開始發放口罩.', 'custom_note': '', 'website': '', 'county': '臺北市', 'town': '松山區', 'cunli': '民有里', 'service_periods': 'NNNNNNYNNNNNNYNNNNNNY'}, 'geometry': {'type': 'Point', 'coordinates': [121.546586, 25.059485]}}\n",
            "{'type': 'Feature', 'properties': {'id': '5901010290', 'name': '健全藥局', 'phone': '(02)27128293', 'address': '臺北市松山區民權東路３段１０３巷２０號', 'mask_adult': 30, 'mask_child': 740, 'updated': '2022/03/09 22:53:23', 'available': '星期一上午看診、星期二上午看診、星期三上午看診、星期四上午看診、星期五上午看診、星期六上午看診、星期日上午看診、星期一下午看診、星期二下午看診、星期三下午看診、星期四下午看診、星期五下午看診、星期六下午看診、星期日下午看診、星期一晚上看診、星期二晚上看診、星期三晚上看診、星期四晚上看診、星期五晚上看診、星期六晚上看診、星期日晚上看診', 'note': '-', 'custom_note': '', 'website': '', 'county': '臺北市', 'town': '松山區', 'cunli': '民福里', 'service_periods': 'NNNNNNNNNNNNNNNNNNNNN'}, 'geometry': {'type': 'Point', 'coordinates': [121.544911, 25.063269]}}\n",
            "{'type': 'Feature', 'properties': {'id': '5901010576', 'name': '合生藥局', 'phone': '(02)27602932', 'address': '臺北市松山區南京東路５段１２３巷４５號１樓', 'mask_adult': 1430, 'mask_child': 1240, 'updated': '2022/03/09 22:53:23', 'available': '星期一上午看診、星期二上午看診、星期三上午看診、星期四上午看診、星期五上午看診、星期六上午看診、星期日上午休診、星期一下午看診、星期二下午看診、星期三下午看診、星期四下午看診、星期五下午看診、星期六下午看診、星期日下午休診、星期一晚上看診、星期二晚上看診、星期三晚上看診、星期四晚上看診、星期五晚上看診、星期六晚上看診、星期日晚上休診', 'note': '口罩發放方式:早上9點至晚上10點 ， 週日店休', 'custom_note': '修改資訊', 'website': '', 'county': '臺北市', 'town': '松山區', 'cunli': '東光里', 'service_periods': 'NNNNNNYNNNNNNYNNNNNNY'}, 'geometry': {'type': 'Point', 'coordinates': [121.560748, 25.053638]}}\n",
            "{'type': 'Feature', 'properties': {'id': '5901011662', 'name': '上允藥局', 'phone': '(02)27696905', 'address': '臺北市松山區民生東路５段７８號', 'mask_adult': 590, 'mask_child': 0, 'updated': '2022/03/09 22:53:23', 'available': '星期一上午看診、星期二上午看診、星期三上午看診、星期四上午看診、星期五上午看診、星期六上午看診、星期日上午休診、星期一下午看診、星期二下午看診、星期三下午看診、星期四下午看診、星期五下午看診、星期六下午休診、星期日下午休診、星期一晚上看診、星期二晚上看診、星期三晚上看診、星期四晚上看診、星期五晚上看診、星期六晚上看診、星期日晚上休診', 'note': '-', 'custom_note': '', 'website': '', 'county': '臺北市', 'town': '松山區', 'cunli': '介壽里', 'service_periods': 'NNNNNNYNNNNNYYNNNNNNY'}, 'geometry': {'type': 'Point', 'coordinates': [121.559049, 25.058364]}}\n",
            "{'type': 'Feature', 'properties': {'id': '5901011975', 'name': '萬泰藥局', 'phone': '(02)27135891', 'address': '臺北市松山區敦化北路２２２巷３８號', 'mask_adult': 0, 'mask_child': 510, 'updated': '2022/03/09 22:53:23', 'available': '星期一上午看診、星期二上午看診、星期三上午看診、星期四上午看診、星期五上午看診、星期六上午看診、星期日上午休診、星期一下午看診、星期二下午看診、星期三下午看診、星期四下午看診、星期五下午看診、星期六下午看診、星期日下午休診、星期一晚上看診、星期二晚上看診、星期三晚上看診、星期四晚上看診、星期五晚上看診、星期六晚上看診、星期日晚上休診', 'note': '-', 'custom_note': '', 'website': '', 'county': '臺北市', 'town': '松山區', 'cunli': '民有里', 'service_periods': 'NNNNNNYNNNNNNYNNNNNNY'}, 'geometry': {'type': 'Point', 'coordinates': [121.547103, 25.059943]}}\n",
            "{'type': 'Feature', 'properties': {'id': '5901012203', 'name': '博荃藥局', 'phone': '(02)27316736', 'address': '臺北市松山區敦化北路４巷５１號', 'mask_adult': 1660, 'mask_child': 1880, 'updated': '2022/03/09 22:53:23', 'available': '星期一上午看診、星期二上午看診、星期三上午看診、星期四上午看診、星期五上午看診、星期六上午看診、星期日上午休診、星期一下午看診、星期二下午看診、星期三下午看診、星期四下午看診、星期五下午看診、星期六下午看診、星期日下午休診、星期一晚上看診、星期二晚上看診、星期三晚上看診、星期四晚上看診、星期五晚上看診、星期六晚上看診、星期日晚上休診', 'note': '口罩銷售時間為下午3~6點，憑健保卡開始購買 ! 星期日，連續假期公休', 'custom_note': '', 'website': '', 'county': '臺北市', 'town': '松山區', 'cunli': '中正里', 'service_periods': 'NNNNNNYNNNNNNYNNNNNNY'}, 'geometry': {'type': 'Point', 'coordinates': [121.544742, 25.050063]}}\n"
          ]
        }
      ],
      "source": [
        "import requests\n",
        "import json\n",
        "\n",
        "# 利用 requests 對 API 來源發送一個請求\n",
        "url = 'https://raw.githubusercontent.com/kiang/pharmacies/master/json/points.json'\n",
        "response = requests.get(url)\n",
        "\n",
        "# 將請求回應的內容存成一個字串格式\n",
        "d = response.text\n",
        "\n",
        "# 將長得像 json 格式的字串解析成字典或列表\n",
        "data = json.loads(d)\n",
        "\n",
        "for index, d in enumerate(data['features']):\n",
        "    if index >= 10:\n",
        "        break\n",
        "    print(d)"
      ]
    },
    {
      "cell_type": "code",
      "source": [
        "# 計算各地區的藥局數量\n",
        "med_count = {}\n",
        "\n",
        "# 填入欄位名稱 #data['features'] 是一個特徵的列表，每個特徵都包含一個屬性字典，其中 'county' 是一個特定的屬性，代表了特徵所在的區域或縣市。因此，d['properties']['county'] 可以用來獲取每個特徵的區域或縣市名稱\n",
        "for d in data['features']:\n",
        "    conunty = d['properties']['county']\n",
        "    if conunty not in med_count:\n",
        "         med_count[conunty] = 0\n",
        "    else:\n",
        "        med_count[conunty] += 1\n",
        "\n",
        "print(med_count)\n",
        "# {'台北市': 123, '新北市': 456 ...}"
      ],
      "metadata": {
        "colab": {
          "base_uri": "https://localhost:8080/"
        },
        "id": "hcgbF0t5VeO0",
        "outputId": "7708de09-d1d6-4229-e6e8-f526faaad606"
      },
      "execution_count": 29,
      "outputs": [
        {
          "output_type": "stream",
          "name": "stdout",
          "text": [
            "{'臺北市': 338, '': 48, '高雄市': 421, '臺中市': 419, '臺南市': 270, '基隆市': 56, '新竹市': 38, '嘉義市': 66, '新北市': 500, '桃園市': 263, '新竹縣': 45, '宜蘭縣': 75, '苗栗縣': 55, '彰化縣': 178, '南投縣': 66, '雲林縣': 128, '嘉義縣': 83, '屏東縣': 139, '澎湖縣': 10, '花蓮縣': 45, '臺東縣': 22, '金門縣': 5, '連江縣': 0}\n"
          ]
        }
      ]
    },
    {
      "cell_type": "code",
      "source": [
        "# 每個地區的成人剩餘口罩數量，並且將結果從大到小排列\n",
        "mask_count = {}\n",
        "\n",
        "# 填入欄位名稱\n",
        "for d in data['features']:\n",
        "    conunty = d['properties']['county']\n",
        "    # mask_adult = d['properties']['mask_adult']\n",
        "    if conunty not in mask_count:\n",
        "        mask_count[conunty] = 0\n",
        "    else:\n",
        "        mask_count[conunty] = mask_count[conunty] + d['properties']['mask_adult']\n",
        "\n",
        "# 將結果從大到小排列\n",
        "mask_count = dict(sorted(mask_count.items(), key=lambda item: item[1], reverse = True))\n",
        "\n",
        "print(mask_count)\n",
        "# {'台北市': 12345, '新北市': 45678 ...}"
      ],
      "metadata": {
        "colab": {
          "base_uri": "https://localhost:8080/"
        },
        "id": "uywLS3muWO6c",
        "outputId": "d1adb8ab-717b-4aae-e269-4d681f1b5ba2"
      },
      "execution_count": 30,
      "outputs": [
        {
          "output_type": "stream",
          "name": "stdout",
          "text": [
            "{'新北市': 670150, '臺中市': 535430, '高雄市': 424170, '臺南市': 392430, '桃園市': 330010, '臺北市': 322490, '彰化縣': 218090, '雲林縣': 195540, '屏東縣': 181480, '苗栗縣': 119500, '嘉義縣': 112190, '嘉義市': 105870, '宜蘭縣': 105830, '南投縣': 81680, '基隆市': 79840, '': 68040, '花蓮縣': 56570, '新竹縣': 51280, '新竹市': 45630, '臺東縣': 27720, '金門縣': 15510, '澎湖縣': 11350, '連江縣': 0}\n"
          ]
        }
      ]
    }
  ]
}