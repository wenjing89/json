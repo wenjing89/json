{
  "nbformat": 4,
  "nbformat_minor": 0,
  "metadata": {
    "colab": {
      "provenance": [],
      "authorship_tag": "ABX9TyNVQKYCUiLtANOlpWQ3vtMa",
      "include_colab_link": true
    },
    "kernelspec": {
      "name": "python3",
      "display_name": "Python 3"
    },
    "language_info": {
      "name": "python"
    }
  },
  "cells": [
    {
      "cell_type": "markdown",
      "metadata": {
        "id": "view-in-github",
        "colab_type": "text"
      },
      "source": [
        "<a href=\"https://colab.research.google.com/github/wenjing89/json/blob/main/db.ipynb\" target=\"_parent\"><img src=\"https://colab.research.google.com/assets/colab-badge.svg\" alt=\"Open In Colab\"/></a>"
      ]
    },
    {
      "cell_type": "code",
      "execution_count": 3,
      "metadata": {
        "colab": {
          "base_uri": "https://localhost:8080/"
        },
        "id": "Rtug_GSjGyQc",
        "outputId": "ec218f9d-1ff8-4a52-e336-468fa29a686f"
      },
      "outputs": [
        {
          "output_type": "stream",
          "name": "stdout",
          "text": [
            "[('臺北市', '338', '2024-04-24 08:02:04.954410'), ('', '48', '2024-04-24 08:02:04.960154'), ('高雄市', '421', '2024-04-24 08:02:04.966322'), ('臺中市', '419', '2024-04-24 08:02:04.972238'), ('臺南市', '270', '2024-04-24 08:02:04.978236'), ('基隆市', '56', '2024-04-24 08:02:04.984979'), ('新竹市', '38', '2024-04-24 08:02:04.991061'), ('嘉義市', '66', '2024-04-24 08:02:04.997270'), ('新北市', '500', '2024-04-24 08:02:05.004019'), ('桃園市', '263', '2024-04-24 08:02:05.010630'), ('新竹縣', '45', '2024-04-24 08:02:05.016892'), ('宜蘭縣', '75', '2024-04-24 08:02:05.022876'), ('苗栗縣', '55', '2024-04-24 08:02:05.029135'), ('彰化縣', '178', '2024-04-24 08:02:05.035159'), ('南投縣', '66', '2024-04-24 08:02:05.040881'), ('雲林縣', '128', '2024-04-24 08:02:05.046818'), ('嘉義縣', '83', '2024-04-24 08:02:05.052606'), ('屏東縣', '139', '2024-04-24 08:02:05.062833'), ('澎湖縣', '10', '2024-04-24 08:02:05.068611'), ('花蓮縣', '45', '2024-04-24 08:02:05.075051'), ('臺東縣', '22', '2024-04-24 08:02:05.082729'), ('金門縣', '5', '2024-04-24 08:02:05.087863'), ('連江縣', '0', '2024-04-24 08:02:05.093537')]\n"
          ]
        }
      ],
      "source": [
        "# 將昨天計算的「各地區的藥局數量」存入資料庫的 `pharmacies` 表格，欄位包含「地區」、「數量」、「新增時間」\n",
        "import sqlite3\n",
        "import datetime\n",
        "import requests\n",
        "import json\n",
        "\n",
        "url = 'https://raw.githubusercontent.com/kiang/pharmacies/master/json/points.json'\n",
        "response = requests.get(url)\n",
        "d = response.text\n",
        "data = json.loads(d)\n",
        "\n",
        "med_count = {}\n",
        "\n",
        "for d in data['features']:\n",
        "    conunty = d['properties']['county']\n",
        "    if conunty not in med_count:\n",
        "         med_count[conunty] = 0\n",
        "    else:\n",
        "        med_count[conunty] += 1\n",
        "\n",
        "conn = sqlite3.connect('mask.db')\n",
        "c = conn.cursor()\n",
        "\n",
        "# 新增且清空資料表\n",
        "c.execute('''CREATE TABLE IF NOT EXISTS pharmacies\n",
        "             (city text, counts text, createdAt datetime)''')\n",
        "c.execute('''DELETE FROM pharmacies''')\n",
        "conn.commit()\n",
        "\n",
        "# 新增資料\n",
        "for city, counts in med_count.items():\n",
        "  t = datetime.datetime.now()\n",
        "  #c.execute(\"INSERT INTO pharmacies VALUES (?,?,?)\", (city, counts, t))\n",
        "  c.execute(f\"INSERT INTO pharmacies VALUES ('{city}', {counts}, '{t}')\")\n",
        "  conn.commit()\n",
        "\n",
        "# 查詢資料\n",
        "c.execute(\"SELECT * FROM pharmacies\")\n",
        "print(c.fetchall())\n",
        "\n",
        "conn.commit()\n",
        "conn.close()"
      ]
    },
    {
      "cell_type": "code",
      "source": [
        "# 接下來請將昨天計算的「各地區的剩餘口罩」存入資料庫的 `masks` 表格，欄位包含「地區」、「剩餘口罩數量」、「新增時間」\n",
        "import sqlite3\n",
        "import datetime\n",
        "\n",
        "mask_count = {}\n",
        "\n",
        "for d in data['features']:\n",
        "    conunty = d['properties']['county']\n",
        "    # mask_adult = d['properties']['mask_adult']\n",
        "    if conunty not in mask_count:\n",
        "        mask_count[conunty] = 0\n",
        "    else:\n",
        "        mask_count[conunty] = mask_count[conunty] + d['properties']['mask_adult']\n",
        "\n",
        "mask_count = dict(sorted(mask_count.items(), key=lambda item: item[1], reverse = True))\n",
        "\n",
        "conn = sqlite3.connect('mask.db')\n",
        "c = conn.cursor()\n",
        "\n",
        "# 新增且清空資料表\n",
        "c.execute('''CREATE TABLE IF NOT EXISTS masks\n",
        "             (address text, remaining text, addtime datetime)''')\n",
        "c.execute('''DELETE FROM masks''')\n",
        "conn.commit()\n",
        "\n",
        "# 新增資料\n",
        "for address, remaining in mask_count.items():\n",
        "  t = datetime.datetime.now()\n",
        "  #c.execute(\"INSERT INTO masks VALUES (?,?,?)\", (address, remaining, t))\n",
        "  c.execute(f\"INSERT INTO masks VALUES ('{address}', {remaining}, '{t}')\")\n",
        "  conn.commit()\n",
        "\n",
        "# 查詢資料\n",
        "c.execute(\"SELECT * FROM masks\")\n",
        "print(c.fetchall())\n",
        "\n",
        "conn.commit()\n",
        "conn.close()"
      ],
      "metadata": {
        "colab": {
          "base_uri": "https://localhost:8080/"
        },
        "id": "qAp1XnTqHLUH",
        "outputId": "5d21875b-02a6-4f39-9b1f-febbd4722c11"
      },
      "execution_count": 5,
      "outputs": [
        {
          "output_type": "stream",
          "name": "stdout",
          "text": [
            "[('新北市', '670150', '2024-04-24 08:04:24.944480'), ('臺中市', '535430', '2024-04-24 08:04:24.951922'), ('高雄市', '424170', '2024-04-24 08:04:24.958201'), ('臺南市', '392430', '2024-04-24 08:04:24.964803'), ('桃園市', '330010', '2024-04-24 08:04:24.971286'), ('臺北市', '322490', '2024-04-24 08:04:24.978182'), ('彰化縣', '218090', '2024-04-24 08:04:24.984566'), ('雲林縣', '195540', '2024-04-24 08:04:24.990474'), ('屏東縣', '181480', '2024-04-24 08:04:24.997207'), ('苗栗縣', '119500', '2024-04-24 08:04:25.004279'), ('嘉義縣', '112190', '2024-04-24 08:04:25.010324'), ('嘉義市', '105870', '2024-04-24 08:04:25.017179'), ('宜蘭縣', '105830', '2024-04-24 08:04:25.023248'), ('南投縣', '81680', '2024-04-24 08:04:25.029083'), ('基隆市', '79840', '2024-04-24 08:04:25.035258'), ('', '68040', '2024-04-24 08:04:25.041150'), ('花蓮縣', '56570', '2024-04-24 08:04:25.047496'), ('新竹縣', '51280', '2024-04-24 08:04:25.054195'), ('新竹市', '45630', '2024-04-24 08:04:25.060764'), ('臺東縣', '27720', '2024-04-24 08:04:25.067215'), ('金門縣', '15510', '2024-04-24 08:04:25.073167'), ('澎湖縣', '11350', '2024-04-24 08:04:25.079165'), ('連江縣', '0', '2024-04-24 08:04:25.085218')]\n"
          ]
        }
      ]
    }
  ]
}