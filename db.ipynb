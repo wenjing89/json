{
  "nbformat": 4,
  "nbformat_minor": 0,
  "metadata": {
    "colab": {
      "provenance": [],
      "authorship_tag": "ABX9TyNGzXdoKMuslEzzGLHPflER",
      "include_colab_link": true
    },
    "kernelspec": {
      "name": "python3",
      "display_name": "Python 3"
    },
    "language_info": {
      "name": "python"
    }
  },
  "cells": [
    {
      "cell_type": "markdown",
      "metadata": {
        "id": "view-in-github",
        "colab_type": "text"
      },
      "source": [
        "<a href=\"https://colab.research.google.com/github/wenjing89/json/blob/main/db.ipynb\" target=\"_parent\"><img src=\"https://colab.research.google.com/assets/colab-badge.svg\" alt=\"Open In Colab\"/></a>"
      ]
    },
    {
      "cell_type": "code",
      "execution_count": 1,
      "metadata": {
        "colab": {
          "base_uri": "https://localhost:8080/"
        },
        "id": "Rtug_GSjGyQc",
        "outputId": "c7cc44ba-aba5-440b-fed6-e49d54b9dfd6"
      },
      "outputs": [
        {
          "output_type": "stream",
          "name": "stdout",
          "text": [
            "[('臺北市', '338', '2024-04-24 07:57:52.307720'), ('', '48', '2024-04-24 07:57:52.318072'), ('高雄市', '421', '2024-04-24 07:57:52.327787'), ('臺中市', '419', '2024-04-24 07:57:52.338077'), ('臺南市', '270', '2024-04-24 07:57:52.345197'), ('基隆市', '56', '2024-04-24 07:57:52.354663'), ('新竹市', '38', '2024-04-24 07:57:52.364591'), ('嘉義市', '66', '2024-04-24 07:57:52.370731'), ('新北市', '500', '2024-04-24 07:57:52.380165'), ('桃園市', '263', '2024-04-24 07:57:52.390201'), ('新竹縣', '45', '2024-04-24 07:57:52.399402'), ('宜蘭縣', '75', '2024-04-24 07:57:52.409174'), ('苗栗縣', '55', '2024-04-24 07:57:52.418934'), ('彰化縣', '178', '2024-04-24 07:57:52.428666'), ('南投縣', '66', '2024-04-24 07:57:52.437902'), ('雲林縣', '128', '2024-04-24 07:57:52.447494'), ('嘉義縣', '83', '2024-04-24 07:57:52.457082'), ('屏東縣', '139', '2024-04-24 07:57:52.466758'), ('澎湖縣', '10', '2024-04-24 07:57:52.476623'), ('花蓮縣', '45', '2024-04-24 07:57:52.486238'), ('臺東縣', '22', '2024-04-24 07:57:52.496234'), ('金門縣', '5', '2024-04-24 07:57:52.505895'), ('連江縣', '0', '2024-04-24 07:57:52.516244')]\n"
          ]
        }
      ],
      "source": [
        "# 將昨天計算的「各地區的藥局數量」存入資料庫的 `pharmacies` 表格，欄位包含「地區」、「數量」、「新增時間」\n",
        "import sqlite3\n",
        "import datetime\n",
        "import requests\n",
        "import json\n",
        "\n",
        "url = 'https://raw.githubusercontent.com/kiang/pharmacies/master/json/points.json'\n",
        "response = requests.get(url)\n",
        "d = response.text\n",
        "data = json.loads(d)\n",
        "\n",
        "med_count = {}\n",
        "\n",
        "for d in data['features']:\n",
        "    conunty = d['properties']['county']\n",
        "    if conunty not in med_count:\n",
        "         med_count[conunty] = 0\n",
        "    else:\n",
        "        med_count[conunty] += 1\n",
        "\n",
        "conn = sqlite3.connect('mask.db')\n",
        "c = conn.cursor()\n",
        "\n",
        "# 新增且清空資料表\n",
        "c.execute('''CREATE TABLE IF NOT EXISTS pharmacies\n",
        "             (city text, counts text, createdAt datetime)''')\n",
        "c.execute('''DELETE FROM pharmacies''')\n",
        "conn.commit()\n",
        "\n",
        "# 新增資料\n",
        "for city, counts in med_count.items():\n",
        "  t = datetime.datetime.now()\n",
        "  c.execute(\"INSERT INTO pharmacies VALUES (?,?,?)\", (city, counts, t))\n",
        "  conn.commit()\n",
        "\n",
        "# 查詢資料\n",
        "c.execute(\"SELECT * FROM pharmacies\")\n",
        "print(c.fetchall())\n",
        "\n",
        "conn.commit()\n",
        "conn.close()"
      ]
    },
    {
      "cell_type": "code",
      "source": [
        "# 接下來請將昨天計算的「各地區的剩餘口罩」存入資料庫的 `masks` 表格，欄位包含「地區」、「剩餘口罩數量」、「新增時間」\n",
        "import sqlite3\n",
        "import datetime\n",
        "\n",
        "mask_count = {}\n",
        "\n",
        "for d in data['features']:\n",
        "    conunty = d['properties']['county']\n",
        "    # mask_adult = d['properties']['mask_adult']\n",
        "    if conunty not in mask_count:\n",
        "        mask_count[conunty] = 0\n",
        "    else:\n",
        "        mask_count[conunty] = mask_count[conunty] + d['properties']['mask_adult']\n",
        "\n",
        "mask_count = dict(sorted(mask_count.items(), key=lambda item: item[1], reverse = True))\n",
        "\n",
        "conn = sqlite3.connect('mask.db')\n",
        "c = conn.cursor()\n",
        "\n",
        "# 新增且清空資料表\n",
        "c.execute('''CREATE TABLE IF NOT EXISTS masks\n",
        "             (address text, remaining text, addtime datetime)''')\n",
        "c.execute('''DELETE FROM masks''')\n",
        "conn.commit()\n",
        "\n",
        "# 新增資料\n",
        "for address, remaining in mask_count.items():\n",
        "  t = datetime.datetime.now()\n",
        "  c.execute(\"INSERT INTO masks VALUES (?,?,?)\", (address, remaining, t))\n",
        "  conn.commit()\n",
        "\n",
        "# 查詢資料\n",
        "c.execute(\"SELECT * FROM masks\")\n",
        "print(c.fetchall())\n",
        "\n",
        "conn.commit()\n",
        "conn.close()"
      ],
      "metadata": {
        "colab": {
          "base_uri": "https://localhost:8080/"
        },
        "id": "qAp1XnTqHLUH",
        "outputId": "7ed81d12-6b50-4ec8-f398-4148300e20f0"
      },
      "execution_count": 2,
      "outputs": [
        {
          "output_type": "stream",
          "name": "stdout",
          "text": [
            "[('新北市', '670150', '2024-04-24 07:59:06.860944'), ('臺中市', '535430', '2024-04-24 07:59:06.866865'), ('高雄市', '424170', '2024-04-24 07:59:06.872775'), ('臺南市', '392430', '2024-04-24 07:59:06.878373'), ('桃園市', '330010', '2024-04-24 07:59:06.884681'), ('臺北市', '322490', '2024-04-24 07:59:06.890711'), ('彰化縣', '218090', '2024-04-24 07:59:06.896556'), ('雲林縣', '195540', '2024-04-24 07:59:06.902316'), ('屏東縣', '181480', '2024-04-24 07:59:06.908278'), ('苗栗縣', '119500', '2024-04-24 07:59:06.914207'), ('嘉義縣', '112190', '2024-04-24 07:59:06.920234'), ('嘉義市', '105870', '2024-04-24 07:59:06.926366'), ('宜蘭縣', '105830', '2024-04-24 07:59:06.932038'), ('南投縣', '81680', '2024-04-24 07:59:06.937817'), ('基隆市', '79840', '2024-04-24 07:59:06.943479'), ('', '68040', '2024-04-24 07:59:06.948726'), ('花蓮縣', '56570', '2024-04-24 07:59:06.954514'), ('新竹縣', '51280', '2024-04-24 07:59:06.960120'), ('新竹市', '45630', '2024-04-24 07:59:06.965501'), ('臺東縣', '27720', '2024-04-24 07:59:06.970962'), ('金門縣', '15510', '2024-04-24 07:59:06.976985'), ('澎湖縣', '11350', '2024-04-24 07:59:06.982700'), ('連江縣', '0', '2024-04-24 07:59:06.988723')]\n"
          ]
        }
      ]
    }
  ]
}